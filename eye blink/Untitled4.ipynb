{
 "cells": [
  {
   "cell_type": "code",
   "execution_count": null,
   "id": "356d4f5b",
   "metadata": {},
   "outputs": [],
   "source": []
  },
  {
   "cell_type": "code",
   "execution_count": null,
   "id": "65f76c50",
   "metadata": {},
   "outputs": [],
   "source": [
    "import cv2\n",
    "import mediapipe as mp\n",
    "import pyautogui\n",
    "\n",
    "# Initialize the webcam\n",
    "cam = cv2.VideoCapture(0)\n",
    "\n",
    "# Initialize the FaceMesh object with default parameters\n",
    "face_mesh = mp.solutions.face_mesh.FaceMesh()\n",
    "\n",
    "# Get the screen size\n",
    "screen_w, screen_h = pyautogui.size()\n",
    "\n",
    "# Main loop\n",
    "while True:\n",
    "    # Read frame from the webcam\n",
    "    _, frame = cam.read()\n",
    "    \n",
    "    # Convert frame to RGB format\n",
    "    rgb_frame = cv2.cvtColor(frame, cv2.COLOR_BGR2RGB)\n",
    "    \n",
    "    # Process the frame with FaceMesh\n",
    "    output = face_mesh.process(rgb_frame)\n",
    "    \n",
    "    # Get the landmark points\n",
    "    landmark_points = output.multi_face_landmarks\n",
    "    \n",
    "    # If landmarks are detected\n",
    "    if landmark_points:\n",
    "        # Loop over the detected landmarks\n",
    "        for landmark in landmark_points[0].landmark:\n",
    "            # Get the x and y coordinates of the landmark\n",
    "            x = int(landmark.x * frame.shape[1])\n",
    "            y = int(landmark.y * frame.shape[0])\n",
    "            \n",
    "            # Draw a circle at the landmark position\n",
    "            cv2.circle(frame, (x, y), 2, (250, 250, 160), -1)\n",
    "    \n",
    "    # Show the frame\n",
    "    cv2.imshow('Face Mesh', frame)\n",
    "    \n",
    "    # Break the loop if 'q' is pressed\n",
    "    if cv2.waitKey(1) & 0xFF == ord('q'):\n",
    "        break\n",
    "\n",
    "# Release the webcam and close all windows\n",
    "cam.release()\n",
    "cv2.destroyAllWindows()\n"
   ]
  },
  {
   "cell_type": "code",
   "execution_count": null,
   "id": "7157e9a1",
   "metadata": {},
   "outputs": [],
   "source": []
  }
 ],
 "metadata": {
  "kernelspec": {
   "display_name": "Python 3 (ipykernel)",
   "language": "python",
   "name": "python3"
  },
  "language_info": {
   "codemirror_mode": {
    "name": "ipython",
    "version": 3
   },
   "file_extension": ".py",
   "mimetype": "text/x-python",
   "name": "python",
   "nbconvert_exporter": "python",
   "pygments_lexer": "ipython3",
   "version": "3.11.5"
  }
 },
 "nbformat": 4,
 "nbformat_minor": 5
}
